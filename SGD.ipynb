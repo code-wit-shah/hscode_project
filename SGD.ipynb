{
  "cells": [
    {
      "cell_type": "code",
      "execution_count": 44,
      "metadata": {
        "id": "-JeVECuRkvHZ"
      },
      "outputs": [],
      "source": [
        "import pandas as pd\n",
        "import numpy as np\n",
        "import nltk\n",
        "from nltk.tokenize import word_tokenize\n",
        "from nltk.corpus import stopwords\n",
        "from nltk.stem import WordNetLemmatizer\n",
        "from sklearn.feature_extraction.text import TfidfVectorizer\n",
        "from sklearn.model_selection import train_test_split\n",
        "from sklearn.linear_model import SGDClassifier\n",
        "from sklearn.metrics import accuracy_score, classification_report, confusion_matrix\n",
        "from sklearn.model_selection import cross_val_score, GridSearchCV\n",
        "from sklearn.preprocessing import LabelEncoder"
      ]
    },
    {
      "cell_type": "code",
      "execution_count": 45,
      "metadata": {
        "id": "u8NBL737kvsI"
      },
      "outputs": [],
      "source": [
        "df = pd.read_csv('train_data.csv')"
      ]
    },
    {
      "cell_type": "code",
      "execution_count": 46,
      "metadata": {
        "id": "WdBtxpOakyqQ"
      },
      "outputs": [],
      "source": [
        "X = df['PRODUCTS']\n",
        "y = df['COMMODITY CODE']"
      ]
    },
    {
      "cell_type": "code",
      "source": [
        "le = LabelEncoder()\n",
        "y_encoded = le.fit_transform(y)"
      ],
      "metadata": {
        "id": "hKwceS6Gun7M"
      },
      "execution_count": 47,
      "outputs": []
    },
    {
      "cell_type": "code",
      "source": [
        "# Vectorize the text data\n",
        "vectorizer = TfidfVectorizer(max_features=5000,stop_words='english')\n",
        "X_vectorized = vectorizer.fit_transform(X)"
      ],
      "metadata": {
        "id": "TQEkJTmuumwN"
      },
      "execution_count": 48,
      "outputs": []
    },
    {
      "cell_type": "code",
      "source": [
        "from collections import Counter\n",
        "counts = Counter(y_encoded)\n",
        "rare_classes = [cls for cls, count in counts.items() if count == 1]"
      ],
      "metadata": {
        "id": "X5wWy78ss_6d"
      },
      "execution_count": 49,
      "outputs": []
    },
    {
      "cell_type": "code",
      "source": [
        "X_filtered = X_vectorized[~np.isin(y_encoded, rare_classes)]\n",
        "y_filtered = y_encoded[~np.isin(y_encoded, rare_classes)]\n"
      ],
      "metadata": {
        "id": "yG5ETbNHljjQ"
      },
      "execution_count": 50,
      "outputs": []
    },
    {
      "cell_type": "code",
      "execution_count": 51,
      "metadata": {
        "id": "C199_MUqk7Vo"
      },
      "outputs": [],
      "source": [
        "X_train, X_test, y_train, y_test = train_test_split(\n",
        "    X_filtered, y_filtered, test_size=0.2, random_state=42, stratify=y_filtered\n",
        ")"
      ]
    },
    {
      "cell_type": "code",
      "execution_count": 56,
      "metadata": {
        "colab": {
          "base_uri": "https://localhost:8080/",
          "height": 74
        },
        "id": "F96C3JQBzFVv",
        "outputId": "927eab18-b3dc-44bc-f88f-86018b89d919"
      },
      "outputs": [
        {
          "output_type": "execute_result",
          "data": {
            "text/plain": [
              "SGDClassifier(alpha=0.001, loss='modified_huber', random_state=42)"
            ],
            "text/html": [
              "<style>#sk-container-id-4 {color: black;}#sk-container-id-4 pre{padding: 0;}#sk-container-id-4 div.sk-toggleable {background-color: white;}#sk-container-id-4 label.sk-toggleable__label {cursor: pointer;display: block;width: 100%;margin-bottom: 0;padding: 0.3em;box-sizing: border-box;text-align: center;}#sk-container-id-4 label.sk-toggleable__label-arrow:before {content: \"▸\";float: left;margin-right: 0.25em;color: #696969;}#sk-container-id-4 label.sk-toggleable__label-arrow:hover:before {color: black;}#sk-container-id-4 div.sk-estimator:hover label.sk-toggleable__label-arrow:before {color: black;}#sk-container-id-4 div.sk-toggleable__content {max-height: 0;max-width: 0;overflow: hidden;text-align: left;background-color: #f0f8ff;}#sk-container-id-4 div.sk-toggleable__content pre {margin: 0.2em;color: black;border-radius: 0.25em;background-color: #f0f8ff;}#sk-container-id-4 input.sk-toggleable__control:checked~div.sk-toggleable__content {max-height: 200px;max-width: 100%;overflow: auto;}#sk-container-id-4 input.sk-toggleable__control:checked~label.sk-toggleable__label-arrow:before {content: \"▾\";}#sk-container-id-4 div.sk-estimator input.sk-toggleable__control:checked~label.sk-toggleable__label {background-color: #d4ebff;}#sk-container-id-4 div.sk-label input.sk-toggleable__control:checked~label.sk-toggleable__label {background-color: #d4ebff;}#sk-container-id-4 input.sk-hidden--visually {border: 0;clip: rect(1px 1px 1px 1px);clip: rect(1px, 1px, 1px, 1px);height: 1px;margin: -1px;overflow: hidden;padding: 0;position: absolute;width: 1px;}#sk-container-id-4 div.sk-estimator {font-family: monospace;background-color: #f0f8ff;border: 1px dotted black;border-radius: 0.25em;box-sizing: border-box;margin-bottom: 0.5em;}#sk-container-id-4 div.sk-estimator:hover {background-color: #d4ebff;}#sk-container-id-4 div.sk-parallel-item::after {content: \"\";width: 100%;border-bottom: 1px solid gray;flex-grow: 1;}#sk-container-id-4 div.sk-label:hover label.sk-toggleable__label {background-color: #d4ebff;}#sk-container-id-4 div.sk-serial::before {content: \"\";position: absolute;border-left: 1px solid gray;box-sizing: border-box;top: 0;bottom: 0;left: 50%;z-index: 0;}#sk-container-id-4 div.sk-serial {display: flex;flex-direction: column;align-items: center;background-color: white;padding-right: 0.2em;padding-left: 0.2em;position: relative;}#sk-container-id-4 div.sk-item {position: relative;z-index: 1;}#sk-container-id-4 div.sk-parallel {display: flex;align-items: stretch;justify-content: center;background-color: white;position: relative;}#sk-container-id-4 div.sk-item::before, #sk-container-id-4 div.sk-parallel-item::before {content: \"\";position: absolute;border-left: 1px solid gray;box-sizing: border-box;top: 0;bottom: 0;left: 50%;z-index: -1;}#sk-container-id-4 div.sk-parallel-item {display: flex;flex-direction: column;z-index: 1;position: relative;background-color: white;}#sk-container-id-4 div.sk-parallel-item:first-child::after {align-self: flex-end;width: 50%;}#sk-container-id-4 div.sk-parallel-item:last-child::after {align-self: flex-start;width: 50%;}#sk-container-id-4 div.sk-parallel-item:only-child::after {width: 0;}#sk-container-id-4 div.sk-dashed-wrapped {border: 1px dashed gray;margin: 0 0.4em 0.5em 0.4em;box-sizing: border-box;padding-bottom: 0.4em;background-color: white;}#sk-container-id-4 div.sk-label label {font-family: monospace;font-weight: bold;display: inline-block;line-height: 1.2em;}#sk-container-id-4 div.sk-label-container {text-align: center;}#sk-container-id-4 div.sk-container {/* jupyter's `normalize.less` sets `[hidden] { display: none; }` but bootstrap.min.css set `[hidden] { display: none !important; }` so we also need the `!important` here to be able to override the default hidden behavior on the sphinx rendered scikit-learn.org. See: https://github.com/scikit-learn/scikit-learn/issues/21755 */display: inline-block !important;position: relative;}#sk-container-id-4 div.sk-text-repr-fallback {display: none;}</style><div id=\"sk-container-id-4\" class=\"sk-top-container\"><div class=\"sk-text-repr-fallback\"><pre>SGDClassifier(alpha=0.001, loss=&#x27;modified_huber&#x27;, random_state=42)</pre><b>In a Jupyter environment, please rerun this cell to show the HTML representation or trust the notebook. <br />On GitHub, the HTML representation is unable to render, please try loading this page with nbviewer.org.</b></div><div class=\"sk-container\" hidden><div class=\"sk-item\"><div class=\"sk-estimator sk-toggleable\"><input class=\"sk-toggleable__control sk-hidden--visually\" id=\"sk-estimator-id-4\" type=\"checkbox\" checked><label for=\"sk-estimator-id-4\" class=\"sk-toggleable__label sk-toggleable__label-arrow\">SGDClassifier</label><div class=\"sk-toggleable__content\"><pre>SGDClassifier(alpha=0.001, loss=&#x27;modified_huber&#x27;, random_state=42)</pre></div></div></div></div></div>"
            ]
          },
          "metadata": {},
          "execution_count": 56
        }
      ],
      "source": [
        "sgd = SGDClassifier(loss='modified_huber', alpha=1e-3, random_state=42)\n",
        "sgd.fit(X_train, y_train)"
      ]
    },
    {
      "cell_type": "code",
      "execution_count": 57,
      "metadata": {
        "id": "wOQyLqBHUzhr"
      },
      "outputs": [],
      "source": [
        "y_pred = sgd.predict(X_test)\n"
      ]
    },
    {
      "cell_type": "code",
      "source": [
        "y_pred_decoded = le.inverse_transform(y_pred)\n",
        "y_test_decoded = le.inverse_transform(y_test)"
      ],
      "metadata": {
        "id": "rGSmCqVQthX-"
      },
      "execution_count": 58,
      "outputs": []
    },
    {
      "cell_type": "code",
      "source": [
        "print(\"validation Accuracy:\", accuracy_score(y_pred_decoded,y_test_decoded ))\n",
        "print(\"Training accuracy Score    : \",sgd.score(X_train,y_train))\n",
        "print(\"Classification Report:\")\n",
        "print(classification_report(y_pred_decoded, y_test_decoded,zero_division=0 ))\n",
        "print(\"Confusion Matrix:\")\n",
        "print(confusion_matrix(y_pred_decoded, y_test_decoded))\n"
      ],
      "metadata": {
        "colab": {
          "base_uri": "https://localhost:8080/"
        },
        "id": "LhssZD2v01Tz",
        "outputId": "d37c7f96-26c7-482c-c317-0d2d5b0f931a"
      },
      "execution_count": 59,
      "outputs": [
        {
          "output_type": "stream",
          "name": "stdout",
          "text": [
            "validation Accuracy: 0.7552405907575036\n",
            "Training accuracy Score    :  0.7736585075337978\n",
            "Classification Report:\n",
            "              precision    recall  f1-score   support\n",
            "\n",
            "  1701910000       1.00      0.91      0.95        11\n",
            "  1704909999       1.00      1.00      1.00        12\n",
            "  2106909855       0.50      1.00      0.67         2\n",
            "  3209100000       1.00      0.75      0.86         8\n",
            "  3212900000       1.00      1.00      1.00         6\n",
            "  3215907090       0.80      0.89      0.84         9\n",
            "  3302109000       0.85      1.00      0.92        11\n",
            "  3303001000       0.95      0.81      0.87        67\n",
            "  3304100000       0.10      0.33      0.15         3\n",
            "  3304200000       0.31      1.00      0.48         5\n",
            "  3304910000       0.97      0.78      0.87        37\n",
            "  3304990000       0.84      0.77      0.81       105\n",
            "  3305100000       0.82      1.00      0.90         9\n",
            "  3305300000       0.00      0.00      0.00         0\n",
            "  3305900000       0.85      0.85      0.85        20\n",
            "  3307100000       0.73      1.00      0.85        11\n",
            "  3401300000       1.00      1.00      1.00         4\n",
            "  3402509000       0.70      1.00      0.82         7\n",
            "  3406000000       1.00      1.00      1.00        20\n",
            "  3506100000       0.73      0.50      0.59        16\n",
            "  3506990000       0.31      1.00      0.48         5\n",
            "  3920491099       0.82      1.00      0.90         9\n",
            "  3920510090       1.00      0.83      0.91         6\n",
            "  3920591000       0.50      0.65      0.56        17\n",
            "  3921120090       1.00      0.86      0.92        14\n",
            "  3922200000       1.00      0.94      0.97        18\n",
            "  3923109090       0.56      1.00      0.71         5\n",
            "  3923301000       1.00      1.00      1.00         5\n",
            "  3924100090       0.77      0.91      0.83        11\n",
            "  3924900090       1.00      1.00      1.00         7\n",
            "  3926909790       0.33      1.00      0.50         2\n",
            "  4011500000       0.94      0.94      0.94        16\n",
            "  4014100000       1.00      1.00      1.00        13\n",
            "  4015190000       1.00      1.00      1.00         4\n",
            "  4016999790       0.00      0.00      0.00         1\n",
            "  4202111090       0.92      0.80      0.86        15\n",
            "  4202121100       0.00      0.00      0.00         0\n",
            "  4202121900       1.00      1.00      1.00         4\n",
            "  4202129990       0.00      0.00      0.00         0\n",
            "  4202199090       0.00      0.00      0.00         0\n",
            "  4202210090       0.86      0.82      0.84       326\n",
            "  4202229090       0.86      0.77      0.81       307\n",
            "  4202310010       0.00      0.00      0.00         0\n",
            "  4202310090       0.48      0.79      0.60        19\n",
            "  4202321000       0.68      0.75      0.71        20\n",
            "  4202329090       0.00      0.00      0.00         0\n",
            "  4202390090       0.75      1.00      0.86         3\n",
            "  4202918090       1.00      0.61      0.76        18\n",
            "  4202921900       1.00      0.58      0.73        19\n",
            "  4202929190       1.00      1.00      1.00        11\n",
            "  4202929890       0.00      0.00      0.00         0\n",
            "  4202990090       0.79      0.82      0.81        38\n",
            "  4203100000       0.17      0.44      0.25         9\n",
            "  4203300090       0.97      0.81      0.89        96\n",
            "  4203400090       0.25      0.80      0.38         5\n",
            "  4409299900       1.00      0.64      0.78        22\n",
            "  4414900000       0.73      0.73      0.73        15\n",
            "  4419900000       0.94      1.00      0.97        15\n",
            "  4420909990       1.00      1.00      1.00         9\n",
            "  4421910000       0.80      1.00      0.89         4\n",
            "  4421999999       0.45      0.56      0.50         9\n",
            "  4702000000       0.80      1.00      0.89         8\n",
            "  4811419000       1.00      1.00      1.00         6\n",
            "  4817100000       0.60      1.00      0.75         3\n",
            "  4817200000       0.55      0.67      0.60         9\n",
            "  4819300000       0.00      0.00      0.00         0\n",
            "  4820103000       0.88      1.00      0.93         7\n",
            "  4820900000       1.00      0.87      0.93        15\n",
            "  4823908580       1.00      0.88      0.93        16\n",
            "  4901100000       0.94      0.90      0.92       186\n",
            "  4901990000       0.00      0.00      0.00         0\n",
            "  5006001000       0.00      0.00      0.00         0\n",
            "  5109109000       0.56      0.67      0.61        27\n",
            "  5109900000       0.13      1.00      0.24         2\n",
            "  5204200000       1.00      0.97      0.98        33\n",
            "  5207100000       0.83      0.81      0.82        47\n",
            "  5207900000       0.42      0.62      0.50        16\n",
            "  5208190000       0.83      0.83      0.83         6\n",
            "  5208390000       0.83      0.83      0.83         6\n",
            "  5208510099       0.44      1.00      0.62         4\n",
            "  5208520099       1.00      0.80      0.89        10\n",
            "  5208599099       0.85      0.94      0.90        50\n",
            "  5406000000       0.76      0.74      0.75        43\n",
            "  5407740000       1.00      1.00      1.00         4\n",
            "  5702509090       0.60      1.00      0.75         3\n",
            "  5702910000       1.00      0.88      0.93         8\n",
            "  5702990010       0.92      0.80      0.86        15\n",
            "  5806390090       1.00      0.75      0.86        12\n",
            "  6004100091       1.00      0.89      0.94         9\n",
            "  6006220000       1.00      1.00      1.00         4\n",
            "  6006320000       0.90      0.90      0.90        10\n",
            "  6101908090       0.00      0.00      0.00         0\n",
            "  6102101090       0.93      0.81      0.87        16\n",
            "  6103220000       0.14      0.50      0.22         2\n",
            "  6103230000       0.45      1.00      0.62         5\n",
            "  6103290000       0.00      0.00      0.00         0\n",
            "  6103310000       0.25      1.00      0.40         1\n",
            "  6103320000       0.33      0.80      0.47         5\n",
            "  6103390010       0.00      0.00      0.00         0\n",
            "  6103420000       0.10      1.00      0.18         2\n",
            "  6103430000       0.45      1.00      0.62         5\n",
            "  6103490010       0.85      0.85      0.85        13\n",
            "  6103490091       0.22      1.00      0.36         2\n",
            "  6104130000       0.89      0.89      0.89         9\n",
            "  6104199010       0.41      0.78      0.54         9\n",
            "  6104220000       0.00      0.00      0.00         0\n",
            "  6104230000       0.33      1.00      0.50         4\n",
            "  6104299010       0.10      1.00      0.18         1\n",
            "  6104310000       0.00      0.00      0.00         0\n",
            "  6104320000       0.07      0.25      0.11         4\n",
            "  6104330000       0.46      1.00      0.63         6\n",
            "  6104390010       0.38      1.00      0.55         3\n",
            "  6104410000       0.00      0.00      0.00         0\n",
            "  6104420000       0.00      0.00      0.00         0\n",
            "  6104430000       0.00      0.00      0.00         0\n",
            "  6104440000       0.65      0.85      0.73        47\n",
            "  6104490000       0.00      0.00      0.00         0\n",
            "  6104510000       0.25      0.50      0.33         2\n",
            "  6104520000       0.00      0.00      0.00         0\n",
            "  6104530000       0.00      0.00      0.00         0\n",
            "  6104610000       0.45      1.00      0.62         5\n",
            "  6104620000       0.00      0.00      0.00         0\n",
            "  6104630000       0.00      0.00      0.00         0\n",
            "  6104690010       0.43      1.00      0.60         6\n",
            "  6104690091       0.09      1.00      0.16         2\n",
            "  6105100000       0.00      0.00      0.00         0\n",
            "  6105909000       0.00      0.00      0.00         0\n",
            "  6106100000       0.02      1.00      0.05         2\n",
            "  6106200000       0.38      0.86      0.52        14\n",
            "  6106901000       0.00      0.00      0.00         0\n",
            "  6106903000       0.00      0.00      0.00         0\n",
            "  6106909000       0.18      0.83      0.30        18\n",
            "  6107110000       0.00      0.00      0.00         0\n",
            "  6107210000       0.77      0.50      0.61        20\n",
            "  6107220000       0.60      0.75      0.67         8\n",
            "  6108290000       0.25      1.00      0.40         1\n",
            "  6108310000       0.36      0.83      0.50         6\n",
            "  6108320000       0.83      0.91      0.87        11\n",
            "  6108390000       0.71      0.53      0.61        19\n",
            "  6108910000       0.69      0.90      0.78        10\n",
            "  6109100010       0.97      0.73      0.84      2323\n",
            "  6109100090       0.00      0.00      0.00         0\n",
            "  6109902000       0.24      0.62      0.35        99\n",
            "  6109909000       0.00      0.00      0.00         0\n",
            "  6110113000       0.00      0.00      0.00         0\n",
            "  6110119000       0.00      0.00      0.00         0\n",
            "  6110129090       0.62      0.73      0.67        11\n",
            "  6110201000       0.00      0.00      0.00         0\n",
            "  6110209100       0.94      0.64      0.76       752\n",
            "  6110209900       0.64      0.76      0.69       286\n",
            "  6110301000       0.18      1.00      0.31         2\n",
            "  6110309100       0.00      0.00      0.00         0\n",
            "  6110309900       0.00      0.00      0.00         0\n",
            "  6110909090       0.54      0.69      0.61       240\n",
            "  6111909019       1.00      0.72      0.84        18\n",
            "  6112110000       0.00      0.00      0.00         0\n",
            "  6112120000       0.25      1.00      0.40         3\n",
            "  6112190000       0.00      0.00      0.00         0\n",
            "  6112399000       0.00      0.00      0.00         0\n",
            "  6112419000       0.12      1.00      0.22         1\n",
            "  6112499000       0.00      0.00      0.00         0\n",
            "  6114200000       0.00      0.00      0.00         0\n",
            "  6114900090       1.00      0.75      0.86         8\n",
            "  6115101000       1.00      1.00      1.00         8\n",
            "  6115290000       0.60      1.00      0.75         3\n",
            "  6115940000       0.00      0.00      0.00         0\n",
            "  6115950000       0.96      0.52      0.68        50\n",
            "  6115969900       0.00      0.00      0.00         0\n",
            "  6115990000       0.37      0.78      0.50         9\n",
            "  6117100000       0.50      1.00      0.67         2\n",
            "  6117801000       0.75      0.86      0.80         7\n",
            "  6201900090       0.40      0.67      0.50         3\n",
            "  6202200019       0.00      0.00      0.00         0\n",
            "  6202309019       0.00      0.00      0.00         0\n",
            "  6202409019       0.50      1.00      0.67         3\n",
            "  6202900090       0.35      0.46      0.40        13\n",
            "  6203228000       0.00      0.00      0.00         0\n",
            "  6203238000       0.15      1.00      0.27         2\n",
            "  6203291800       0.57      0.80      0.67         5\n",
            "  6203310000       0.00      0.00      0.00         0\n",
            "  6203329000       0.00      0.00      0.00         0\n",
            "  6203339000       0.00      0.00      0.00         1\n",
            "  6203391900       0.90      0.62      0.74       356\n",
            "  6203399000       0.00      0.00      0.00         0\n",
            "  6203411000       0.29      1.00      0.44         2\n",
            "  6203423100       0.03      1.00      0.06         1\n",
            "  6203423500       0.33      0.54      0.41        65\n",
            "  6203429000       0.21      0.86      0.34         7\n",
            "  6203431900       0.00      0.00      0.00         2\n",
            "  6203439000       0.00      0.00      0.00         0\n",
            "  6203491900       0.24      0.50      0.33        22\n",
            "  6203493900       0.80      1.00      0.89         4\n",
            "  6203495000       0.41      0.62      0.49        21\n",
            "  6203499000       0.00      0.00      0.00         0\n",
            "  6204120090       0.00      0.00      0.00         0\n",
            "  6204130000       0.00      0.00      0.00         0\n",
            "  6204191000       0.65      0.40      0.50        42\n",
            "  6204199000       0.00      0.00      0.00         0\n",
            "  6204228090       0.00      0.00      0.00         0\n",
            "  6204238000       0.09      1.00      0.17         1\n",
            "  6204291800       0.16      1.00      0.27         3\n",
            "  6204310000       0.00      0.00      0.00         0\n",
            "  6204329090       0.02      1.00      0.04         1\n",
            "  6204339000       0.05      0.50      0.10         2\n",
            "  6204391900       0.88      0.62      0.72       371\n",
            "  6204399090       0.00      0.00      0.00         0\n",
            "  6204410000       0.00      0.00      0.00         0\n",
            "  6204420090       0.94      0.87      0.90       963\n",
            "  6204430000       0.46      0.98      0.63        42\n",
            "  6204440090       0.86      0.71      0.78       284\n",
            "  6204491000       1.00      0.77      0.87       235\n",
            "  6204499090       0.87      0.85      0.86       221\n",
            "  6204510019       0.00      0.00      0.00         0\n",
            "  6204520090       0.64      0.81      0.72        85\n",
            "  6204530090       0.00      0.00      0.00         0\n",
            "  6204591090       0.98      0.61      0.75       280\n",
            "  6204599090       0.00      0.00      0.00         0\n",
            "  6204611000       0.28      1.00      0.43         5\n",
            "  6204623190       0.65      0.86      0.74        83\n",
            "  6204623990       0.82      0.62      0.70       439\n",
            "  6204625990       1.00      0.98      0.99       210\n",
            "  6204629090       0.85      0.53      0.65        83\n",
            "  6204631890       0.00      0.00      0.00         0\n",
            "  6204639090       0.08      0.50      0.14         2\n",
            "  6204691890       0.89      0.57      0.69       249\n",
            "  6204693990       0.00      0.00      0.00         0\n",
            "  6204695090       0.54      0.57      0.55        67\n",
            "  6204699090       0.39      0.85      0.54        33\n",
            "  6205200090       0.16      0.83      0.26        23\n",
            "  6205300000       0.00      0.00      0.00         0\n",
            "  6205901090       0.00      0.00      0.00         0\n",
            "  6205908010       0.50      1.00      0.67         2\n",
            "  6205908090       0.06      0.60      0.11         5\n",
            "  6206100000       0.00      0.00      0.00         0\n",
            "  6206200000       0.00      0.00      0.00         0\n",
            "  6206300090       0.69      0.77      0.73       433\n",
            "  6206400000       0.76      0.77      0.77       385\n",
            "  6206909000       0.81      0.67      0.74       817\n",
            "  6207190000       0.60      1.00      0.75         3\n",
            "  6207210000       0.80      1.00      0.89         4\n",
            "  6207991000       0.00      0.00      0.00         0\n",
            "  6207999099       0.00      0.00      0.00         1\n",
            "  6208210000       0.33      0.80      0.47         5\n",
            "  6208290000       0.00      0.00      0.00         0\n",
            "  6208910019       0.92      0.61      0.73        18\n",
            "  6208910090       0.60      1.00      0.75        24\n",
            "  6208990099       0.88      0.64      0.74        70\n",
            "  6209200090       0.32      0.75      0.44         8\n",
            "  6209300090       0.00      0.00      0.00         0\n",
            "  6209909090       0.00      0.00      0.00         0\n",
            "  6211110000       0.97      0.73      0.84       132\n",
            "  6211120000       0.90      0.62      0.73       138\n",
            "  6211329000       0.79      0.47      0.59        49\n",
            "  6211339000       0.33      0.33      0.33         3\n",
            "  6211390090       0.17      1.00      0.29         1\n",
            "  6211429000       0.00      0.00      0.00         0\n",
            "  6211439000       0.00      0.00      0.00         0\n",
            "  6212109000       0.96      1.00      0.98        47\n",
            "  6215100090       0.56      0.82      0.67        11\n",
            "  6215200090       1.00      0.85      0.92        13\n",
            "  6215900090       0.12      1.00      0.22         1\n",
            "  6217100090       0.00      0.00      0.00         0\n",
            "  6301309090       0.25      0.50      0.33         2\n",
            "  6302210089       0.71      0.50      0.59        10\n",
            "  6302310000       0.00      0.00      0.00         0\n",
            "  6302329000       0.79      0.79      0.79        14\n",
            "  6302399000       0.88      1.00      0.93         7\n",
            "  6302600010       0.90      0.53      0.67        17\n",
            "  6302600090       0.12      0.50      0.20         2\n",
            "  6302999090       1.00      0.71      0.83         7\n",
            "  6303999090       1.00      1.00      1.00         5\n",
            "  6307909390       0.85      0.61      0.71        18\n",
            "  6307909511       0.33      1.00      0.50         2\n",
            "  6307909595       0.00      0.00      0.00         0\n",
            "  6308000015       0.00      0.00      0.00         0\n",
            "  6308000090       0.13      1.00      0.24         2\n",
            "  6401921000       0.00      0.00      0.00         0\n",
            "  6401990010       0.38      1.00      0.56         5\n",
            "  6401990090       0.00      0.00      0.00         0\n",
            "  6402121000       0.91      1.00      0.95        10\n",
            "  6402190000       0.50      1.00      0.67         2\n",
            "  6402200000       0.72      0.76      0.74        17\n",
            "  6402991000       0.24      1.00      0.38         4\n",
            "  6402993100       0.00      0.00      0.00         0\n",
            "  6402995000       0.00      0.00      0.00         0\n",
            "  6403190000       0.88      0.72      0.79        39\n",
            "  6403200000       0.20      1.00      0.33         1\n",
            "  6403511500       0.00      0.00      0.00         0\n",
            "  6403511900       0.00      0.00      0.00         0\n",
            "  6403591100       0.26      0.62      0.36        16\n",
            "  6403593900       0.73      0.89      0.80         9\n",
            "  6403911690       0.00      0.00      0.00         0\n",
            "  6403911890       0.00      0.00      0.00         0\n",
            "  6403919600       0.00      0.00      0.00         0\n",
            "  6403919800       0.54      1.00      0.70         7\n",
            "  6403990590       0.00      0.00      0.00         0\n",
            "  6403991100       0.09      0.46      0.15        13\n",
            "  6403993600       0.00      0.00      0.00         0\n",
            "  6403993800       0.00      0.00      0.00         0\n",
            "  6403995000       0.03      1.00      0.06         1\n",
            "  6403999610       0.00      0.00      0.00         0\n",
            "  6403999690       0.37      1.00      0.54        10\n",
            "  6403999890       0.33      0.60      0.42        63\n",
            "  6404110000       0.43      0.71      0.54        51\n",
            "  6404191000       0.21      0.71      0.33        17\n",
            "  6404199000       0.98      0.67      0.80      1389\n",
            "  6405901000       0.00      0.00      0.00         0\n",
            "  6405909000       0.00      0.00      0.00         0\n",
            "  6406909010       0.99      0.95      0.97       927\n",
            "  6502000000       0.00      0.00      0.00         0\n",
            "  6504000000       1.00      0.63      0.77        43\n",
            "  6505003000       0.81      0.94      0.87        18\n",
            "  6505009010       0.00      0.00      0.00         0\n",
            "  6505009090       0.00      0.00      0.00         0\n",
            "  6506101000       1.00      1.00      1.00         5\n",
            "  6507000000       0.75      1.00      0.86         3\n",
            "  6601999000       0.60      1.00      0.75         3\n",
            "  6702100000       0.50      1.00      0.67         2\n",
            "  6704110000       0.25      1.00      0.40         1\n",
            "  6911100090       1.00      0.95      0.97        19\n",
            "  6912008500       0.93      1.00      0.96        13\n",
            "  7009920000       0.60      1.00      0.75         3\n",
            "  7013229000       1.00      1.00      1.00         5\n",
            "  7018101100       1.00      1.00      1.00         5\n",
            "  7113110000       0.62      0.67      0.65        15\n",
            "  7113190000       0.97      0.65      0.78        97\n",
            "  7113200000       0.05      1.00      0.10         1\n",
            "  7117190090       0.25      1.00      0.40         1\n",
            "  7323930090       0.80      0.80      0.80         5\n",
            "  7323990090       1.00      0.82      0.90        17\n",
            "  8211100000       1.00      0.92      0.96        12\n",
            "  8214200000       0.50      1.00      0.67         2\n",
            "  8215991000       1.00      1.00      1.00         4\n",
            "  8301401900       0.92      0.80      0.86        15\n",
            "  8301500000       1.00      1.00      1.00         4\n",
            "  8302420090       1.00      1.00      1.00        12\n",
            "  8414510090       0.91      1.00      0.95        10\n",
            "  8421210090       1.00      1.00      1.00         4\n",
            "  8424200000       0.25      1.00      0.40         1\n",
            "  8452300000       1.00      1.00      1.00        11\n",
            "  8456200000       0.90      0.90      0.90        10\n",
            "  8467890000       1.00      1.00      1.00         6\n",
            "  8471300000       0.92      1.00      0.96        12\n",
            "  8471606000       1.00      0.80      0.89         5\n",
            "  8471607000       1.00      0.73      0.84        22\n",
            "  8473308000       0.80      0.80      0.80         5\n",
            "  8504318090       0.00      0.00      0.00         0\n",
            "  8504406090       0.25      0.50      0.33         2\n",
            "  8506808000       0.20      0.50      0.29         2\n",
            "  8510100000       0.25      1.00      0.40         1\n",
            "  8510300000       0.82      0.69      0.75        13\n",
            "  8512400090       1.00      0.92      0.96        13\n",
            "  8513100000       1.00      1.00      1.00         4\n",
            "  8516295000       1.00      1.00      1.00        11\n",
            "  8516720000       1.00      0.93      0.97        15\n",
            "  8517180000       1.00      1.00      1.00         5\n",
            "  8518210000       1.00      1.00      1.00         5\n",
            "  8518300090       0.75      1.00      0.86         3\n",
            "  8519810090       0.92      0.92      0.92        12\n",
            "  8523809000       0.71      0.56      0.63         9\n",
            "  8525830000       0.75      0.60      0.67         5\n",
            "  8527130000       1.00      0.92      0.96        13\n",
            "  8528728000       1.00      0.92      0.96        12\n",
            "  8535900089       1.00      1.00      1.00         5\n",
            "  8536619090       0.00      0.00      0.00         0\n",
            "  8536700099       0.00      0.00      0.00         1\n",
            "  8537109899       1.00      1.00      1.00         4\n",
            "  8539520000       1.00      0.83      0.91         6\n",
            "  8539901000       1.00      0.80      0.89        15\n",
            "  8541430000       0.60      1.00      0.75         6\n",
            "  8544421000       0.00      0.00      0.00         0\n",
            "  8544429010       0.50      0.50      0.50         4\n",
            "  8544429090       0.50      0.50      0.50         4\n",
            "  8544492000       0.50      0.50      0.50         4\n",
            "  8708309130       1.00      1.00      1.00        12\n",
            "  8715001000       1.00      1.00      1.00         6\n",
            "  9001300000       1.00      1.00      1.00         5\n",
            "  9003110000       1.00      0.73      0.85       105\n",
            "  9003190040       0.00      0.00      0.00         0\n",
            "  9004109100       1.00      0.95      0.97       448\n",
            "  9004109900       0.00      0.00      0.00         0\n",
            "  9019101000       0.25      1.00      0.40         1\n",
            "  9025190090       0.94      1.00      0.97        15\n",
            "  9101110000       1.00      1.00      1.00         5\n",
            "  9105110000       1.00      1.00      1.00         4\n",
            "  9113900019       1.00      1.00      1.00         6\n",
            "  9113900099       1.00      0.92      0.96        12\n",
            "  9208900000       1.00      1.00      1.00         4\n",
            "  9401790000       1.00      0.86      0.92        14\n",
            "  9403208000       0.00      0.00      0.00         0\n",
            "  9403601000       0.40      1.00      0.57         2\n",
            "  9404300000       1.00      0.97      0.98        30\n",
            "  9404909000       0.25      0.50      0.33         2\n",
            "  9405115000       0.75      0.75      0.75         4\n",
            "  9405119090       0.86      1.00      0.92         6\n",
            "  9405219090       1.00      1.00      1.00        10\n",
            "  9405310000       1.00      0.80      0.89         5\n",
            "  9405500090       1.00      1.00      1.00         5\n",
            "  9405919000       1.00      0.65      0.79        17\n",
            "  9405920090       1.00      0.85      0.92        13\n",
            "  9405990090       0.00      0.00      0.00         0\n",
            "  9504908000       0.80      0.80      0.80         5\n",
            "  9505109000       0.75      1.00      0.86         3\n",
            "  9506400000       0.75      1.00      0.86         3\n",
            "  9506691000       0.75      0.75      0.75         4\n",
            "  9506699000       0.25      1.00      0.40         1\n",
            "  9506919000       0.60      1.00      0.75         3\n",
            "  9506991000       1.00      1.00      1.00         4\n",
            "  9506999000       0.83      0.77      0.80        13\n",
            "  9603293000       0.25      1.00      0.40         1\n",
            "  9603301000       0.00      0.00      0.00         0\n",
            "  9603309000       0.00      0.00      0.00         0\n",
            "  9605000000       1.00      0.78      0.88       216\n",
            "  9608101000       1.00      0.92      0.96        13\n",
            "  9608200000       0.69      0.75      0.72        12\n",
            "  9608300000       1.00      0.93      0.96        14\n",
            "  9612200000       1.00      1.00      1.00         4\n",
            "  9615110000       1.00      0.73      0.85        30\n",
            "  9616200000       0.60      1.00      0.75         3\n",
            "  9619007900       0.00      0.00      0.00         0\n",
            "\n",
            "    accuracy                           0.76     16792\n",
            "   macro avg       0.51      0.63      0.52     16792\n",
            "weighted avg       0.87      0.76      0.80     16792\n",
            "\n",
            "Confusion Matrix:\n",
            "[[10  0  0 ...  0  0  0]\n",
            " [ 0 12  0 ...  0  0  0]\n",
            " [ 0  0  2 ...  0  0  0]\n",
            " ...\n",
            " [ 0  0  0 ... 22  0  0]\n",
            " [ 0  0  0 ...  0  3  0]\n",
            " [ 0  0  0 ...  0  0  0]]\n"
          ]
        }
      ]
    },
    {
      "cell_type": "code",
      "source": [
        "from sklearn.metrics import precision_recall_fscore_support\n",
        "\n",
        "precision, recall, f1_score, support = precision_recall_fscore_support(\n",
        "    y_pred_decoded,\n",
        "    y_test_decoded,\n",
        "    average='weighted',\n",
        "    zero_division=0\n",
        ")\n",
        "\n",
        "print(f'Total Precision: {precision:.2f}')\n",
        "print(f'Total Recall: {recall:.2f}')\n",
        "print(f'Total F1-score: {f1_score:.2f}')\n",
        "\n"
      ],
      "metadata": {
        "colab": {
          "base_uri": "https://localhost:8080/"
        },
        "id": "AWeopdPyfUQK",
        "outputId": "1b4628a1-f374-4fa7-9db9-76b25553d5a7"
      },
      "execution_count": 60,
      "outputs": [
        {
          "output_type": "stream",
          "name": "stdout",
          "text": [
            "Total Precision: 0.87\n",
            "Total Recall: 0.76\n",
            "Total F1-score: 0.80\n"
          ]
        }
      ]
    },
    {
      "cell_type": "code",
      "execution_count": 61,
      "metadata": {
        "colab": {
          "base_uri": "https://localhost:8080/"
        },
        "id": "70xcV_-QXEld",
        "outputId": "b3479cbd-9fc6-4fa3-d6ba-749c9ecf96cf"
      },
      "outputs": [
        {
          "output_type": "stream",
          "name": "stderr",
          "text": [
            "/usr/local/lib/python3.10/dist-packages/sklearn/model_selection/_split.py:737: UserWarning: The least populated class in y has only 2 members, which is less than n_splits=10.\n",
            "  warnings.warn(\n"
          ]
        },
        {
          "output_type": "stream",
          "name": "stdout",
          "text": [
            "Accuracy: 75.51 %\n",
            "Standard Deviation: 0.54 %\n"
          ]
        }
      ],
      "source": [
        "from sklearn.model_selection import cross_val_score\n",
        "accuracies = cross_val_score(estimator = sgd, X = X_train, y = y_train, cv = 10)\n",
        "print(\"Accuracy: {:.2f} %\".format(accuracies.mean()*100))\n",
        "print(\"Standard Deviation: {:.2f} %\".format(accuracies.std()*100))"
      ]
    },
    {
      "cell_type": "code",
      "source": [
        "import joblib"
      ],
      "metadata": {
        "id": "fImo9DbErD29"
      },
      "execution_count": 62,
      "outputs": []
    },
    {
      "cell_type": "code",
      "source": [
        "joblib.dump(vectorizer, 'vectorizer.joblib')\n",
        "joblib.dump(le, 'label_encoder.joblib')\n",
        "joblib.dump(sgd, 'model.joblib')"
      ],
      "metadata": {
        "colab": {
          "base_uri": "https://localhost:8080/"
        },
        "id": "F_YKO6AwtHW8",
        "outputId": "4951de3f-cce3-443c-bac5-9857c796a984"
      },
      "execution_count": 63,
      "outputs": [
        {
          "output_type": "execute_result",
          "data": {
            "text/plain": [
              "['model.joblib']"
            ]
          },
          "metadata": {},
          "execution_count": 63
        }
      ]
    },
    {
      "cell_type": "code",
      "source": [
        "loaded_vectorizer = joblib.load('vectorizer.joblib')\n",
        "loaded_label_encoder = joblib.load('label_encoder.joblib')\n",
        "loaded_model = joblib.load('model.joblib')\n"
      ],
      "metadata": {
        "id": "mRnkA3P1tsj1"
      },
      "execution_count": 64,
      "outputs": []
    },
    {
      "cell_type": "code",
      "source": [
        "print(type(loaded_vectorizer))\n",
        "print(type(loaded_model))\n",
        "print(type(loaded_label_encoder))\n"
      ],
      "metadata": {
        "colab": {
          "base_uri": "https://localhost:8080/"
        },
        "id": "DPNaK1Dxzlln",
        "outputId": "2f50fbef-84f2-4c9f-b328-9296fa043151"
      },
      "execution_count": 65,
      "outputs": [
        {
          "output_type": "stream",
          "name": "stdout",
          "text": [
            "<class 'sklearn.feature_extraction.text.TfidfVectorizer'>\n",
            "<class 'sklearn.linear_model._stochastic_gradient.SGDClassifier'>\n",
            "<class 'sklearn.preprocessing._label.LabelEncoder'>\n"
          ]
        }
      ]
    },
    {
      "cell_type": "code",
      "source": [
        "new_products = [\"J06 slim-fit, bleached-effect comfort-denim jeans\",\"Ankle Length Jet Black Denim Jeans - 0123045\",\n",
        "                 \"Polo By RL ROUND NECK TEE SHIRT- 0122215\",\"Super Team Suede Sneakers\",\n",
        "                 \"FastFit Work Glove with Elastic Cuff for Secure Fit, Performance Gloves for Multi-Purpose Use\",\n",
        "                \"Simpli-Magic Cotton Bath Towels, 25”x50”, Gray, 6 Pack\",\n",
        "                 \"COVERGIRL Easy Breezy Brow Fill Plus Shape Plus Define Powder Eyebrow Makeup, Black, 0.024 Ounce\",\n",
        "                \"Continental Grand Prix 5000 S TR Tyre\",\n",
        "                \"Schwinn Replacement Bike Tyre, 20 x 1.125 BMX Bike Tyre, Fast Rolling Tread, Steel Bead Construction, Puncture Guard, Fits Internal Rim Widths 15mm-20mm, PSI Range 30 to 40\"]\n",
        "new_sample_vector=loaded_vectorizer.transform(new_products)\n",
        "new_predicted_class = loaded_model.predict(new_sample_vector)\n",
        "new_predicted_class_label = loaded_label_encoder.inverse_transform(new_predicted_class)\n",
        "for i in range(len(new_products)):\n",
        "    print(f'HS Code for {new_products[i]} : {new_predicted_class_label[i]}\\n')"
      ],
      "metadata": {
        "colab": {
          "base_uri": "https://localhost:8080/"
        },
        "id": "GRQ6L4ZrwdaG",
        "outputId": "da738564-a683-4212-b2ee-0a085d26636b"
      },
      "execution_count": 66,
      "outputs": [
        {
          "output_type": "stream",
          "name": "stdout",
          "text": [
            "HS Code for J06 slim-fit, bleached-effect comfort-denim jeans : 6204623190\n",
            "\n",
            "HS Code for Ankle Length Jet Black Denim Jeans - 0123045 : 6204623190\n",
            "\n",
            "HS Code for Polo By RL ROUND NECK TEE SHIRT- 0122215 : 6109100010\n",
            "\n",
            "HS Code for Super Team Suede Sneakers : 6404199000\n",
            "\n",
            "HS Code for FastFit Work Glove with Elastic Cuff for Secure Fit, Performance Gloves for Multi-Purpose Use : 4015190000\n",
            "\n",
            "HS Code for Simpli-Magic Cotton Bath Towels, 25”x50”, Gray, 6 Pack : 6109100010\n",
            "\n",
            "HS Code for COVERGIRL Easy Breezy Brow Fill Plus Shape Plus Define Powder Eyebrow Makeup, Black, 0.024 Ounce : 3304910000\n",
            "\n",
            "HS Code for Continental Grand Prix 5000 S TR Tyre : 4011500000\n",
            "\n",
            "HS Code for Schwinn Replacement Bike Tyre, 20 x 1.125 BMX Bike Tyre, Fast Rolling Tread, Steel Bead Construction, Puncture Guard, Fits Internal Rim Widths 15mm-20mm, PSI Range 30 to 40 : 4011500000\n",
            "\n"
          ]
        }
      ]
    }
  ],
  "metadata": {
    "colab": {
      "provenance": []
    },
    "kernelspec": {
      "display_name": "Python 3",
      "name": "python3"
    },
    "language_info": {
      "name": "python"
    }
  },
  "nbformat": 4,
  "nbformat_minor": 0
}